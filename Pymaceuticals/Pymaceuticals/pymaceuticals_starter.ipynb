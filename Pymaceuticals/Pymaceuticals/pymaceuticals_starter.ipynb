{
 "cells": [
  {
   "cell_type": "markdown",
   "metadata": {},
   "source": [
    "## Observations and Insights"
   ]
  },
  {
   "cell_type": "markdown",
   "metadata": {},
   "source": [
    "Three take aways\n",
    "- There is a strong positive correlation between the weight of a mouse and the average tumor volume, which suggests that weight contributes to risk of developing tumors. \n",
    "- Mice that recieved treatment from Capomulin showed significant decrease in tumor size over the 45 day period suggesting a high drug efficacy\n",
    "\n",
    "-among the top four drugs Capomulin had the largest variance which suggests that its successes may not be as statistically significant as its counter parts\n"
   ]
  },
  {
   "cell_type": "markdown",
   "metadata": {},
   "source": [
    "# Matplotlib Homework - The Power of Plots\n",
    "\n",
    "## Background\n",
    "\n",
    "What good is data without a good plot to tell the story?\n",
    "\n",
    "So, let's take what you've learned about Python Matplotlib and apply it to a real-world situation and dataset:\n",
    "\n",
    "![Laboratory](Images/Laboratory.jpg)\n",
    "\n",
    "While your data companions rushed off to jobs in finance and government, you remained adamant that science was the way for you. Staying true to your mission, you've joined Pymaceuticals Inc., a burgeoning pharmaceutical company based out of San Diego. Pymaceuticals specializes in anti-cancer pharmaceuticals. In its most recent efforts, it began screening for potential treatments for squamous cell carcinoma (SCC), a commonly occurring form of skin cancer.\n",
    "\n",
    "As a senior data analyst at the company, you've been given access to the complete data from their most recent animal study. In this study, 250 mice identified with SCC tumor growth were treated through a variety of drug regimens. Over the course of 45 days, tumor development was observed and measured. The purpose of this study was to compare the performance of Pymaceuticals' drug of interest, Capomulin, versus the other treatment regimens. You have been tasked by the executive team to generate all of the tables and figures needed for the technical report of the study. The executive team also has asked for a top-level summary of the study results.\n",
    "\n",
    "## Instructions\n",
    "\n",
    "Your tasks are to do the following:\n",
    "\n",
    "* Generate a summary statistics table consisting of the mean, median, variance, standard deviation, and SEM of the tumor volume for each drug regimen.\n",
    "\n",
    "* Generate a bar plot using both Pandas's `DataFrame.plot()` and Matplotlib's `pyplot` that shows the number of data points for each treatment regimen.\n",
    "\n",
    "  * **NOTE:** These plots should look identical.\n",
    "\n",
    "* Generate a pie plot using both Pandas's `DataFrame.plot()` and Matplotlib's `pyplot` that shows the distribution of female or male mice in the study.\n",
    "\n",
    "  * **NOTE:** These plots should look identical.\n",
    "\n",
    "* Calculate the final tumor volume of each mouse across four of the most promising treatment regimens: Capomulin, Ramicane, Infubinol, and Ceftamin. Calculate the quartiles and IQR and quantitatively determine if there are any potential outliers across all four treatment regimens.\n",
    "\n",
    "* Using Matplotlib, generate a box and whisker plot of the final tumor volume for all four treatment regimens and highlight any potential outliers in the plot by changing their color and style.\n",
    "\n",
    "  **Hint**: All four box plots should be within the same figure. Use this [Matplotlib documentation page](https://matplotlib.org/gallery/pyplots/boxplot_demo_pyplot.html#sphx-glr-gallery-pyplots-boxplot-demo-pyplot-py) for help with changing the style of the outliers.\n",
    "\n",
    "* Generate a line plot of time point versus tumor volume for a single mouse treated with Capomulin.\n",
    "\n",
    "* Generate a scatter plot of mouse weight versus average tumor volume for the Capomulin treatment regimen.\n",
    "\n",
    "* Calculate the correlation coefficient and linear regression model between mouse weight and average tumor volume for the Capomulin treatment. Plot the linear regression model on top of the previous scatter plot.\n",
    "\n",
    "* Look across all previously generated figures and tables and write at least three observations or inferences that can be made from the data. Include these observations at the top of notebook.\n",
    "\n",
    "Here are some final considerations:\n",
    "\n",
    "* You must use proper labeling of your plots, to include properties such as: plot titles, axis labels, legend labels, _x_-axis and _y_-axis limits, etc.\n",
    "\n",
    "* See the [starter workbook](Pymaceuticals/pymaceuticals_starter.ipynb) for help on what modules to import and expected format of the notebook.\n"
   ]
  },
  {
   "cell_type": "markdown",
   "metadata": {},
   "source": [
    "## Dependencies and starter code"
   ]
  },
  {
   "cell_type": "code",
   "execution_count": 2,
   "metadata": {},
   "outputs": [
    {
     "data": {
      "text/html": [
       "<div>\n",
       "<style scoped>\n",
       "    .dataframe tbody tr th:only-of-type {\n",
       "        vertical-align: middle;\n",
       "    }\n",
       "\n",
       "    .dataframe tbody tr th {\n",
       "        vertical-align: top;\n",
       "    }\n",
       "\n",
       "    .dataframe thead th {\n",
       "        text-align: right;\n",
       "    }\n",
       "</style>\n",
       "<table border=\"1\" class=\"dataframe\">\n",
       "  <thead>\n",
       "    <tr style=\"text-align: right;\">\n",
       "      <th></th>\n",
       "      <th>Mouse ID</th>\n",
       "      <th>Drug Regimen</th>\n",
       "      <th>Sex</th>\n",
       "      <th>Age_months</th>\n",
       "      <th>Weight (g)</th>\n",
       "    </tr>\n",
       "  </thead>\n",
       "  <tbody>\n",
       "    <tr>\n",
       "      <td>0</td>\n",
       "      <td>k403</td>\n",
       "      <td>Ramicane</td>\n",
       "      <td>Male</td>\n",
       "      <td>21</td>\n",
       "      <td>16</td>\n",
       "    </tr>\n",
       "    <tr>\n",
       "      <td>1</td>\n",
       "      <td>s185</td>\n",
       "      <td>Capomulin</td>\n",
       "      <td>Female</td>\n",
       "      <td>3</td>\n",
       "      <td>17</td>\n",
       "    </tr>\n",
       "    <tr>\n",
       "      <td>2</td>\n",
       "      <td>x401</td>\n",
       "      <td>Capomulin</td>\n",
       "      <td>Female</td>\n",
       "      <td>16</td>\n",
       "      <td>15</td>\n",
       "    </tr>\n",
       "    <tr>\n",
       "      <td>3</td>\n",
       "      <td>m601</td>\n",
       "      <td>Capomulin</td>\n",
       "      <td>Male</td>\n",
       "      <td>22</td>\n",
       "      <td>17</td>\n",
       "    </tr>\n",
       "    <tr>\n",
       "      <td>4</td>\n",
       "      <td>g791</td>\n",
       "      <td>Ramicane</td>\n",
       "      <td>Male</td>\n",
       "      <td>11</td>\n",
       "      <td>16</td>\n",
       "    </tr>\n",
       "  </tbody>\n",
       "</table>\n",
       "</div>"
      ],
      "text/plain": [
       "  Mouse ID Drug Regimen     Sex  Age_months  Weight (g)\n",
       "0     k403     Ramicane    Male          21          16\n",
       "1     s185    Capomulin  Female           3          17\n",
       "2     x401    Capomulin  Female          16          15\n",
       "3     m601    Capomulin    Male          22          17\n",
       "4     g791     Ramicane    Male          11          16"
      ]
     },
     "execution_count": 2,
     "metadata": {},
     "output_type": "execute_result"
    }
   ],
   "source": [
    "# Dependencies and Setup\n",
    "import matplotlib.pyplot as plt\n",
    "import pandas as pd\n",
    "import scipy.stats as st\n",
    "import numpy as np\n",
    "\n",
    "# Study data files\n",
    "mouse_metadata = \"data/Mouse_metadata.csv\"\n",
    "study_results = \"data/Study_results.csv\"\n",
    "\n",
    "# Read the mouse data and the study results\n",
    "mouse_metadata = pd.read_csv(mouse_metadata)\n",
    "study_results = pd.read_csv(study_results)\n",
    "\n",
    "# Combine the data into a single dataset\n",
    "mouse_metadata.head()"
   ]
  },
  {
   "cell_type": "code",
   "execution_count": 3,
   "metadata": {},
   "outputs": [
    {
     "data": {
      "text/html": [
       "<div>\n",
       "<style scoped>\n",
       "    .dataframe tbody tr th:only-of-type {\n",
       "        vertical-align: middle;\n",
       "    }\n",
       "\n",
       "    .dataframe tbody tr th {\n",
       "        vertical-align: top;\n",
       "    }\n",
       "\n",
       "    .dataframe thead th {\n",
       "        text-align: right;\n",
       "    }\n",
       "</style>\n",
       "<table border=\"1\" class=\"dataframe\">\n",
       "  <thead>\n",
       "    <tr style=\"text-align: right;\">\n",
       "      <th></th>\n",
       "      <th>Mouse ID</th>\n",
       "      <th>Timepoint</th>\n",
       "      <th>Tumor Volume (mm3)</th>\n",
       "      <th>Metastatic Sites</th>\n",
       "    </tr>\n",
       "  </thead>\n",
       "  <tbody>\n",
       "    <tr>\n",
       "      <td>0</td>\n",
       "      <td>b128</td>\n",
       "      <td>0</td>\n",
       "      <td>45.0</td>\n",
       "      <td>0</td>\n",
       "    </tr>\n",
       "    <tr>\n",
       "      <td>1</td>\n",
       "      <td>f932</td>\n",
       "      <td>0</td>\n",
       "      <td>45.0</td>\n",
       "      <td>0</td>\n",
       "    </tr>\n",
       "    <tr>\n",
       "      <td>2</td>\n",
       "      <td>g107</td>\n",
       "      <td>0</td>\n",
       "      <td>45.0</td>\n",
       "      <td>0</td>\n",
       "    </tr>\n",
       "    <tr>\n",
       "      <td>3</td>\n",
       "      <td>a457</td>\n",
       "      <td>0</td>\n",
       "      <td>45.0</td>\n",
       "      <td>0</td>\n",
       "    </tr>\n",
       "    <tr>\n",
       "      <td>4</td>\n",
       "      <td>c819</td>\n",
       "      <td>0</td>\n",
       "      <td>45.0</td>\n",
       "      <td>0</td>\n",
       "    </tr>\n",
       "  </tbody>\n",
       "</table>\n",
       "</div>"
      ],
      "text/plain": [
       "  Mouse ID  Timepoint  Tumor Volume (mm3)  Metastatic Sites\n",
       "0     b128          0                45.0                 0\n",
       "1     f932          0                45.0                 0\n",
       "2     g107          0                45.0                 0\n",
       "3     a457          0                45.0                 0\n",
       "4     c819          0                45.0                 0"
      ]
     },
     "execution_count": 3,
     "metadata": {},
     "output_type": "execute_result"
    }
   ],
   "source": [
    "study_results.head()"
   ]
  },
  {
   "cell_type": "code",
   "execution_count": 4,
   "metadata": {},
   "outputs": [
    {
     "data": {
      "text/html": [
       "<div>\n",
       "<style scoped>\n",
       "    .dataframe tbody tr th:only-of-type {\n",
       "        vertical-align: middle;\n",
       "    }\n",
       "\n",
       "    .dataframe tbody tr th {\n",
       "        vertical-align: top;\n",
       "    }\n",
       "\n",
       "    .dataframe thead th {\n",
       "        text-align: right;\n",
       "    }\n",
       "</style>\n",
       "<table border=\"1\" class=\"dataframe\">\n",
       "  <thead>\n",
       "    <tr style=\"text-align: right;\">\n",
       "      <th></th>\n",
       "      <th>Mouse ID</th>\n",
       "      <th>Drug Regimen</th>\n",
       "      <th>Sex</th>\n",
       "      <th>Age_months</th>\n",
       "      <th>Weight (g)</th>\n",
       "      <th>Timepoint</th>\n",
       "      <th>Tumor Volume (mm3)</th>\n",
       "      <th>Metastatic Sites</th>\n",
       "    </tr>\n",
       "  </thead>\n",
       "  <tbody>\n",
       "    <tr>\n",
       "      <td>0</td>\n",
       "      <td>k403</td>\n",
       "      <td>Ramicane</td>\n",
       "      <td>Male</td>\n",
       "      <td>21</td>\n",
       "      <td>16</td>\n",
       "      <td>0</td>\n",
       "      <td>45.000000</td>\n",
       "      <td>0</td>\n",
       "    </tr>\n",
       "    <tr>\n",
       "      <td>1</td>\n",
       "      <td>k403</td>\n",
       "      <td>Ramicane</td>\n",
       "      <td>Male</td>\n",
       "      <td>21</td>\n",
       "      <td>16</td>\n",
       "      <td>5</td>\n",
       "      <td>38.825898</td>\n",
       "      <td>0</td>\n",
       "    </tr>\n",
       "    <tr>\n",
       "      <td>2</td>\n",
       "      <td>k403</td>\n",
       "      <td>Ramicane</td>\n",
       "      <td>Male</td>\n",
       "      <td>21</td>\n",
       "      <td>16</td>\n",
       "      <td>10</td>\n",
       "      <td>35.014271</td>\n",
       "      <td>1</td>\n",
       "    </tr>\n",
       "    <tr>\n",
       "      <td>3</td>\n",
       "      <td>k403</td>\n",
       "      <td>Ramicane</td>\n",
       "      <td>Male</td>\n",
       "      <td>21</td>\n",
       "      <td>16</td>\n",
       "      <td>15</td>\n",
       "      <td>34.223992</td>\n",
       "      <td>1</td>\n",
       "    </tr>\n",
       "    <tr>\n",
       "      <td>4</td>\n",
       "      <td>k403</td>\n",
       "      <td>Ramicane</td>\n",
       "      <td>Male</td>\n",
       "      <td>21</td>\n",
       "      <td>16</td>\n",
       "      <td>20</td>\n",
       "      <td>32.997729</td>\n",
       "      <td>1</td>\n",
       "    </tr>\n",
       "  </tbody>\n",
       "</table>\n",
       "</div>"
      ],
      "text/plain": [
       "  Mouse ID Drug Regimen   Sex  Age_months  Weight (g)  Timepoint  \\\n",
       "0     k403     Ramicane  Male          21          16          0   \n",
       "1     k403     Ramicane  Male          21          16          5   \n",
       "2     k403     Ramicane  Male          21          16         10   \n",
       "3     k403     Ramicane  Male          21          16         15   \n",
       "4     k403     Ramicane  Male          21          16         20   \n",
       "\n",
       "   Tumor Volume (mm3)  Metastatic Sites  \n",
       "0           45.000000                 0  \n",
       "1           38.825898                 0  \n",
       "2           35.014271                 1  \n",
       "3           34.223992                 1  \n",
       "4           32.997729                 1  "
      ]
     },
     "execution_count": 4,
     "metadata": {},
     "output_type": "execute_result"
    }
   ],
   "source": [
    "merged_df = pd.merge(mouse_metadata, study_results, on=('Mouse ID'), how ='outer')\n",
    "merged_df.head()"
   ]
  },
  {
   "cell_type": "markdown",
   "metadata": {},
   "source": [
    "## Summary statistics"
   ]
  },
  {
   "cell_type": "code",
   "execution_count": 5,
   "metadata": {},
   "outputs": [],
   "source": [
    "drug_summary =pd.DataFrame(merged_df.groupby(\"Drug Regimen\").count())\n"
   ]
  },
  {
   "cell_type": "code",
   "execution_count": 6,
   "metadata": {},
   "outputs": [
    {
     "data": {
      "text/html": [
       "<div>\n",
       "<style scoped>\n",
       "    .dataframe tbody tr th:only-of-type {\n",
       "        vertical-align: middle;\n",
       "    }\n",
       "\n",
       "    .dataframe tbody tr th {\n",
       "        vertical-align: top;\n",
       "    }\n",
       "\n",
       "    .dataframe thead th {\n",
       "        text-align: right;\n",
       "    }\n",
       "</style>\n",
       "<table border=\"1\" class=\"dataframe\">\n",
       "  <thead>\n",
       "    <tr style=\"text-align: right;\">\n",
       "      <th></th>\n",
       "      <th>Trials</th>\n",
       "      <th>Mean</th>\n",
       "      <th>Median</th>\n",
       "      <th>Std. Dev</th>\n",
       "      <th>Variance</th>\n",
       "      <th>SEM</th>\n",
       "    </tr>\n",
       "    <tr>\n",
       "      <th>Drug Regimen</th>\n",
       "      <th></th>\n",
       "      <th></th>\n",
       "      <th></th>\n",
       "      <th></th>\n",
       "      <th></th>\n",
       "      <th></th>\n",
       "    </tr>\n",
       "  </thead>\n",
       "  <tbody>\n",
       "    <tr>\n",
       "      <td>Capomulin</td>\n",
       "      <td>230</td>\n",
       "      <td>40.675741</td>\n",
       "      <td>41.557809</td>\n",
       "      <td>4.994774</td>\n",
       "      <td>24.947764</td>\n",
       "      <td>0.329346</td>\n",
       "    </tr>\n",
       "    <tr>\n",
       "      <td>Ceftamin</td>\n",
       "      <td>178</td>\n",
       "      <td>52.591172</td>\n",
       "      <td>51.776157</td>\n",
       "      <td>6.268188</td>\n",
       "      <td>39.290177</td>\n",
       "      <td>0.469821</td>\n",
       "    </tr>\n",
       "    <tr>\n",
       "      <td>Infubinol</td>\n",
       "      <td>178</td>\n",
       "      <td>52.884795</td>\n",
       "      <td>51.820584</td>\n",
       "      <td>6.567243</td>\n",
       "      <td>43.128684</td>\n",
       "      <td>0.492236</td>\n",
       "    </tr>\n",
       "    <tr>\n",
       "      <td>Ketapril</td>\n",
       "      <td>188</td>\n",
       "      <td>55.235638</td>\n",
       "      <td>53.698743</td>\n",
       "      <td>8.279709</td>\n",
       "      <td>68.553577</td>\n",
       "      <td>0.603860</td>\n",
       "    </tr>\n",
       "    <tr>\n",
       "      <td>Naftisol</td>\n",
       "      <td>186</td>\n",
       "      <td>54.331565</td>\n",
       "      <td>52.509285</td>\n",
       "      <td>8.134708</td>\n",
       "      <td>66.173479</td>\n",
       "      <td>0.596466</td>\n",
       "    </tr>\n",
       "  </tbody>\n",
       "</table>\n",
       "</div>"
      ],
      "text/plain": [
       "              Trials       Mean     Median  Std. Dev   Variance       SEM\n",
       "Drug Regimen                                                             \n",
       "Capomulin        230  40.675741  41.557809  4.994774  24.947764  0.329346\n",
       "Ceftamin         178  52.591172  51.776157  6.268188  39.290177  0.469821\n",
       "Infubinol        178  52.884795  51.820584  6.567243  43.128684  0.492236\n",
       "Ketapril         188  55.235638  53.698743  8.279709  68.553577  0.603860\n",
       "Naftisol         186  54.331565  52.509285  8.134708  66.173479  0.596466"
      ]
     },
     "execution_count": 6,
     "metadata": {},
     "output_type": "execute_result"
    }
   ],
   "source": [
    "# Generate a summary statistics table of mean, median, variance, standard deviation, \n",
    "#and SEM of the tumor volume for each regimen\n",
    "drug_summary[\"Mean\"] = pd.DataFrame(merged_df.groupby(\"Drug Regimen\")[\"Tumor Volume (mm3)\"].mean())\n",
    "drug_summary[\"Median\"] = pd.DataFrame(merged_df.groupby(\"Drug Regimen\")[\"Tumor Volume (mm3)\"].median())\n",
    "drug_summary[\"Variance\"] = pd.DataFrame(merged_df.groupby(\"Drug Regimen\")[\"Tumor Volume (mm3)\"].var())\n",
    "drug_summary[\"Std. Dev\"] = pd.DataFrame(merged_df.groupby(\"Drug Regimen\")[\"Tumor Volume (mm3)\"].std())\n",
    "drug_summary[\"SEM\"] = pd.DataFrame(merged_df.groupby(\"Drug Regimen\")[\"Tumor Volume (mm3)\"].sem())\n",
    "\n",
    "drug_summary = drug_summary[[\"Mouse ID\", \"Mean\", \"Median\", \"Std. Dev\", \"Variance\", \"SEM\"]]\n",
    "\n",
    "drug_summary = drug_summary.rename(columns = {\"Mouse ID\" : \"Trials\"})\n",
    "\n",
    "drug_summary.head()\n"
   ]
  },
  {
   "cell_type": "markdown",
   "metadata": {},
   "source": [
    "## Bar plots"
   ]
  },
  {
   "cell_type": "code",
   "execution_count": 7,
   "metadata": {},
   "outputs": [
    {
     "data": {
      "image/png": "[encoded data removed]",
      "text/plain": [
       "<Figure size 432x288 with 1 Axes>"
      ]
     },
     "metadata": {
      "needs_background": "light"
     },
     "output_type": "display_data"
    },
    {
     "data": {
      "text/plain": [
       "<Figure size 432x288 with 0 Axes>"
      ]
     },
     "metadata": {},
     "output_type": "display_data"
    }
   ],
   "source": [
    "# Generate a bar plot showing number of data points for each treatment regimen using pandas\n",
    "\n",
    "num_trials = drug_summary[[\"Trials\"]]\n",
    "\n",
    "\n",
    "num_trials.plot(kind=\"bar\", figsize=(6,4), color = \"b\", legend=False)\n",
    "\n",
    "#titles\n",
    "plt.title(\"Trials per Drug Regime\")\n",
    "plt.ylabel(\"# of Trials\")\n",
    "plt.show()\n",
    "plt.tight_layout()"
   ]
  },
  {
   "cell_type": "code",
   "execution_count": 8,
   "metadata": {},
   "outputs": [
    {
     "data": {
      "image/png": "[encoded data removed]",
      "text/plain": [
       "<Figure size 432x288 with 1 Axes>"
      ]
     },
     "metadata": {
      "needs_background": "light"
     },
     "output_type": "display_data"
    }
   ],
   "source": [
    "# Generate a bar plot showing number of data points for each treatment regimen using pyplot\n",
    "\n",
    "\n",
    "# Set x axis and tick locations\n",
    "x_axis = np.arange(len(num_trials))\n",
    "tick_locations = [value for value in x_axis]\n",
    "\n",
    "# Create a list indicating where to write x labels and set figure size to adjust for space\n",
    "plt.figure(figsize=(6,4))\n",
    "plt.bar(x_axis, num_trials[\"Trials\"], color = \"b\", width = .5)\n",
    "plt.xticks(tick_locations, num_trials.index.values, rotation=\"vertical\")\n",
    "\n",
    "# Set x and y limits\n",
    "plt.xlim(-0.75, len(x_axis)-.25)\n",
    "plt.ylim(0, max(num_trials[\"Trials\"])+10)\n",
    "\n",
    "# Set a Title and labels\n",
    "plt.title(\"Trials per Drug Regime\")\n",
    "plt.xlabel(\"Drug Regime\")\n",
    "plt.ylabel(\"# of Trials\")\n",
    "\n",
    "\n",
    "# Save our graph and show the grap\n",
    "plt.show()"
   ]
  },
  {
   "cell_type": "markdown",
   "metadata": {},
   "source": [
    "## Pie plots"
   ]
  },
  {
   "cell_type": "code",
   "execution_count": 9,
   "metadata": {},
   "outputs": [
    {
     "data": {
      "image/png": "[encoded data removed]",
      "text/plain": [
       "<Figure size 432x288 with 1 Axes>"
      ]
     },
     "metadata": {},
     "output_type": "display_data"
    }
   ],
   "source": [
    "# Generate a pie plot showing the distribution of female versus male mice using pandas\n",
    "pie_data_1 = merged_df.Sex.value_counts()\n",
    "\n",
    "\n",
    "# Use DataFrame.plot() in order to create a bar chart of the data\n",
    "pie_data_1.plot.pie(y= 'Type',  labels=pie_data_1.index.values, \n",
    "        autopct=\"%1.1f%%\", shadow=True, startangle=140, subplots=True,legend=False)\n",
    "\n",
    "# Set a title for the chart\n",
    "plt.title(\"Female vs. Male\")\n",
    "\n",
    "plt.show()"
   ]
  },
  {
   "cell_type": "code",
   "execution_count": 10,
   "metadata": {},
   "outputs": [
    {
     "data": {
      "image/png": "[encoded data removed]",
      "text/plain": [
       "<Figure size 432x288 with 1 Axes>"
      ]
     },
     "metadata": {},
     "output_type": "display_data"
    }
   ],
   "source": [
    "# Generate a pie plot showing the distribution of female versus male mice using pyplot\n",
    "labels=[\"Female\",\"Male\"]\n",
    "\n",
    "sex = merged_df.groupby('Sex').count()\n",
    "plt.pie(sex[\"Mouse ID\"], labels=labels, \n",
    "         shadow=True, autopct='%1.1f%%')\n",
    "\n",
    "\n",
    "plt.title(\"Female vs. Male\")\n",
    "\n",
    "plt.show()"
   ]
  },
  {
   "cell_type": "markdown",
   "metadata": {},
   "source": [
    "## Quartiles, outliers and boxplots"
   ]
  },
  {
   "cell_type": "code",
   "execution_count": 11,
   "metadata": {},
   "outputs": [
    {
     "name": "stdout",
     "output_type": "stream",
     "text": [
      "The lower quartile of Capomulin is: 32.37735684\n",
      "The upper quartile of Capomulin is: 40.1592203\n",
      "The interquartile range of Capomulin is: 7.781863460000004\n",
      "The the median of Capomulin is: 37.31184577 \n",
      "Values below 20.70456164999999 could be outliers.\n",
      "Values above 28.486425109999995 could be outliers.\n",
      "-------------------------------------------------------------\n",
      "The lower quartile of Ramicane is: 30.981175224999998\n",
      "The upper quartile of Ramicane is: 38.508305307499995\n",
      "The interquartile range of Ramicane is: 7.527130082499998\n",
      "The the median of Ramicane is: 34.848627300000004 \n",
      "Values below 19.690480101250003 could be outliers.\n",
      "Values above 27.217610183749997 could be outliers.\n",
      "-------------------------------------------------------------\n",
      "The lower quartile of Infubinol is: 62.75445141\n",
      "The upper quartile of Infubinol is: 67.68556862\n",
      "The interquartile range of Infubinol is: 4.9311172099999965\n",
      "The the median of Capomulin is: 66.08306589 \n",
      "Values below 55.35777559500001 could be outliers.\n",
      "Values above 60.288892805 could be outliers.\n",
      "-------------------------------------------------------------\n",
      "The lower quartile of Ceftamin is: 61.43389223\n",
      "The upper quartile of Ceftamin is: 67.52748237\n",
      "The interquartile range of Ceftamin is: 6.093590140000003\n",
      "The the median of Ceftamin is: 64.29983003 \n",
      "Values below 52.29350701999999 could be outliers.\n",
      "Values above 58.387097159999996 could be outliers.\n",
      "-------------------------------------------------------------\n"
     ]
    }
   ],
   "source": [
    "### Calculate the final tumor volume of each mouse across four of the most promising treatment regimens. \n",
    "\n",
    "top_df = merged_df.sort_values([\"Drug Regimen\", \"Mouse ID\", \"Timepoint\"], ascending=True)\n",
    "best_df = top_df.loc[top_df[\"Timepoint\"] == 45]\n",
    "best_df.head().reset_index()\n",
    "\n",
    "top_drugs = [ \"Capomulin\",\"Ramicane\", \"Infubinol\",\"Ceftamin\"]\n",
    "\n",
    "#--------------------------------------------------------------------------------------------\n",
    "cap_df = best_df[best_df['Drug Regimen'].isin(['Capomulin'])]\n",
    "cap_df.head().reset_index()\n",
    "cap_drug = cap_df.sort_values([\"Tumor Volume (mm3)\"], ascending=True).reset_index()\n",
    "cap_drug = cap_drug[\"Tumor Volume (mm3)\"]\n",
    "\n",
    "#--------------------------------------------------------------------------------------------\n",
    "\n",
    "ram_df = best_df[best_df['Drug Regimen'].isin(['Ramicane'])]\n",
    "ram_df.head().reset_index()\n",
    "ram_drug = ram_df.sort_values([\"Tumor Volume (mm3)\"], ascending=True).reset_index()\n",
    "ram_drug = ram_drug[\"Tumor Volume (mm3)\"]\n",
    "\n",
    "#--------------------------------------------------------------------------------------------\n",
    "\n",
    "inf_df = best_df[best_df['Drug Regimen'].isin(['Infubinol'])]\n",
    "inf_df.head().reset_index()\n",
    "inf_drug = inf_df.sort_values([\"Tumor Volume (mm3)\"], ascending=True).reset_index()\n",
    "inf_drug = inf_drug[\"Tumor Volume (mm3)\"]\n",
    "\n",
    "\n",
    "#--------------------------------------------------------------------------------------------\n",
    "\n",
    "cef_df = best_df[best_df['Drug Regimen'].isin(['Ceftamin'])]\n",
    "cef_df.head().reset_index()\n",
    "cef_drug = cef_df.sort_values([\"Tumor Volume (mm3)\"], ascending=True).reset_index()\n",
    "cef_drug = cef_drug[\"Tumor Volume (mm3)\"]\n",
    "\n",
    "\n",
    "\n",
    "#Calculate the IQR and quantitatively determine if there are any potential outliers.\n",
    "\n",
    "#set quartiles\n",
    "cap_quartiles = cap_drug.quantile([.25,.5,.75])\n",
    "ram_quartiles = ram_drug.quantile([.25,.5,.75])\n",
    "inf_quartiles = inf_drug.quantile([.25,.5,.75])\n",
    "cef_quartiles = cef_drug.quantile([.25,.5,.75])\n",
    "\n",
    "#lower quart\n",
    "cap_lowerq = cap_quartiles[0.25]\n",
    "ram_lowerq = ram_quartiles[0.25]\n",
    "inf_lowerq = inf_quartiles[0.25]\n",
    "cef_lowerq = cef_quartiles[0.25]\n",
    "\n",
    "#upper quart\n",
    "cap_upperq = cap_quartiles[0.75]\n",
    "ram_upperq = ram_quartiles[0.75]\n",
    "inf_upperq = inf_quartiles[0.75]\n",
    "cef_upperq = cef_quartiles[0.75]\n",
    "\n",
    "#mid quart\n",
    "cap_midq = cap_quartiles[0.5]\n",
    "ram_midq = ram_quartiles[0.5]\n",
    "inf_midq = inf_quartiles[0.5]\n",
    "cef_midq = cef_quartiles[0.5]\n",
    "\n",
    "\n",
    "#irq\n",
    "cap_iqr = cap_upperq-cap_lowerq\n",
    "ram_iqr = ram_upperq-ram_lowerq\n",
    "inf_iqr = inf_upperq-inf_lowerq\n",
    "cef_iqr = cef_upperq-cef_lowerq\n",
    "\n",
    "#lower bound\n",
    "cap_lower_bound = cap_lowerq - (1.5*cap_iqr)\n",
    "ram_lower_bound = ram_lowerq - (1.5*ram_iqr)\n",
    "inf_lower_bound = inf_lowerq - (1.5*inf_iqr)\n",
    "cef_lower_bound = cef_lowerq - (1.5*cef_iqr)\n",
    "\n",
    "\n",
    "#upperbound\n",
    "cap_upper_bound = cap_upperq - (1.5*cap_iqr)\n",
    "ram_upper_bound = ram_upperq - (1.5*ram_iqr)\n",
    "inf_upper_bound = inf_upperq - (1.5*inf_iqr)\n",
    "cef_upper_bound = cef_upperq - (1.5*cef_iqr)\n",
    "\n",
    "#print output\n",
    "print(f\"The lower quartile of {top_drugs[0]} is: {cap_lowerq}\")\n",
    "print(f\"The upper quartile of {top_drugs[0]} is: {cap_upperq}\")\n",
    "print(f\"The interquartile range of {top_drugs[0]} is: {cap_iqr}\")\n",
    "print(f\"The the median of {top_drugs[0]} is: {cap_midq} \")\n",
    "print(f\"Values below {cap_lower_bound} could be outliers.\")\n",
    "print(f\"Values above {cap_upper_bound} could be outliers.\")\n",
    "print(f\"-------------------------------------------------------------\")\n",
    "\n",
    "print(f\"The lower quartile of {top_drugs[1]} is: {ram_lowerq}\")\n",
    "print(f\"The upper quartile of {top_drugs[1]} is: {ram_upperq}\")\n",
    "print(f\"The interquartile range of {top_drugs[1]} is: {ram_iqr}\")\n",
    "print(f\"The the median of {top_drugs[1]} is: {ram_midq} \")\n",
    "print(f\"Values below {ram_lower_bound} could be outliers.\")\n",
    "print(f\"Values above {ram_upper_bound} could be outliers.\")\n",
    "print(f\"-------------------------------------------------------------\")\n",
    "\n",
    "print(f\"The lower quartile of {top_drugs[2]} is: {inf_lowerq}\")\n",
    "print(f\"The upper quartile of {top_drugs[2]} is: {inf_upperq}\")\n",
    "print(f\"The interquartile range of {top_drugs[2]} is: {inf_iqr}\")\n",
    "print(f\"The the median of {top_drugs[0]} is: {inf_midq} \")\n",
    "print(f\"Values below {inf_lower_bound} could be outliers.\")\n",
    "print(f\"Values above {inf_upper_bound} could be outliers.\")\n",
    "print(f\"-------------------------------------------------------------\")\n",
    "\n",
    "print(f\"The lower quartile of {top_drugs[3]} is: {cef_lowerq}\")\n",
    "print(f\"The upper quartile of {top_drugs[3]} is: {cef_upperq}\")\n",
    "print(f\"The interquartile range of {top_drugs[3]} is: {cef_iqr}\")\n",
    "print(f\"The the median of {top_drugs[3]} is: {cef_midq} \")\n",
    "print(f\"Values below {cef_lower_bound} could be outliers.\")\n",
    "print(f\"Values above {cef_upper_bound} could be outliers.\")\n",
    "print(f\"-------------------------------------------------------------\")\n"
   ]
  },
  {
   "cell_type": "code",
   "execution_count": 12,
   "metadata": {},
   "outputs": [],
   "source": [
    "# Generate a box plot of the final tumor volume of each mouse across four regimens of interest\n"
   ]
  },
  {
   "cell_type": "code",
   "execution_count": 13,
   "metadata": {},
   "outputs": [
    {
     "data": {
      "image/png": "[encoded data removed]",
      "text/plain": [
       "<Figure size 432x288 with 1 Axes>"
      ]
     },
     "metadata": {
      "needs_background": "light"
     },
     "output_type": "display_data"
    }
   ],
   "source": [
    "fig1, ax1 = plt.subplots()\n",
    "ax1.set_title('Tumor Volume Capomulin ')\n",
    "ax1.set_ylabel('Tumor Volume (mm3)')\n",
    "ax1.boxplot(cap_drug)\n",
    "plt.show()"
   ]
  },
  {
   "cell_type": "code",
   "execution_count": 14,
   "metadata": {},
   "outputs": [
    {
     "data": {
      "image/png": "[encoded data removed]",
      "text/plain": [
       "<Figure size 432x288 with 1 Axes>"
      ]
     },
     "metadata": {
      "needs_background": "light"
     },
     "output_type": "display_data"
    }
   ],
   "source": [
    "fig1, ax1 = plt.subplots()\n",
    "ax1.set_title('Tumor Volume Capomulin ')\n",
    "ax1.set_ylabel('Tumor Volume (mm3)')\n",
    "ax1.boxplot(ram_drug)\n",
    "plt.show()"
   ]
  },
  {
   "cell_type": "code",
   "execution_count": 15,
   "metadata": {},
   "outputs": [
    {
     "data": {
      "image/png": "[encoded data removed]",
      "text/plain": [
       "<Figure size 432x288 with 1 Axes>"
      ]
     },
     "metadata": {
      "needs_background": "light"
     },
     "output_type": "display_data"
    }
   ],
   "source": [
    "fig1, ax1 = plt.subplots()\n",
    "ax1.set_title('Tumor Volume Capomulin ')\n",
    "ax1.set_ylabel('Tumor Volume (mm3)')\n",
    "ax1.boxplot(inf_drug)\n",
    "plt.show()"
   ]
  },
  {
   "cell_type": "code",
   "execution_count": 16,
   "metadata": {},
   "outputs": [
    {
     "data": {
      "image/png": "[encoded data removed]",
      "text/plain": [
       "<Figure size 432x288 with 1 Axes>"
      ]
     },
     "metadata": {
      "needs_background": "light"
     },
     "output_type": "display_data"
    }
   ],
   "source": [
    "fig1, ax1 = plt.subplots()\n",
    "ax1.set_title('Tumor Volume Capomulin ')\n",
    "ax1.set_ylabel('Tumor Volume (mm3)')\n",
    "ax1.boxplot(cef_drug)\n",
    "plt.show()"
   ]
  },
  {
   "cell_type": "code",
   "execution_count": 17,
   "metadata": {},
   "outputs": [
    {
     "data": {
      "text/plain": [
       "<matplotlib.axes._subplots.AxesSubplot at 0x1a1de45550>"
      ]
     },
     "execution_count": 17,
     "metadata": {},
     "output_type": "execute_result"
    },
    {
     "data": {
      "image/png": "[encoded data removed]",
      "text/plain": [
       "<Figure size 720x576 with 1 Axes>"
      ]
     },
     "metadata": {
      "needs_background": "light"
     },
     "output_type": "display_data"
    }
   ],
   "source": [
    "capomulin_df = merged_df.loc[merged_df[\"Drug Regimen\"] == \"Capomulin\"]\n",
    "capomulin_df = capomulin_df.reset_index()\n",
    "mouse_df = capomulin_df.loc[capomulin_df[\"Mouse ID\"] == \"x401\"]\n",
    "mouse_df = mouse_df.loc[:, [\"Timepoint\", \"Tumor Volume (mm3)\"]]\n",
    "mouse_df = mouse_df.reset_index(drop=True)\n",
    "# Generate a line plot of time point versus tumor volume for a mouse treated with Capomulin\n",
    "mouse_df.set_index('Timepoint').plot(figsize=(10, 8), linewidth=2.5)"
   ]
  },
  {
   "cell_type": "markdown",
   "metadata": {},
   "source": [
    "## Line and scatter plots"
   ]
  },
  {
   "cell_type": "code",
   "execution_count": 18,
   "metadata": {},
   "outputs": [
    {
     "data": {
      "image/png": "[encoded data removed]",
      "text/plain": [
       "<Figure size 288x288 with 1 Axes>"
      ]
     },
     "metadata": {
      "needs_background": "light"
     },
     "output_type": "display_data"
    }
   ],
   "source": [
    "# Generate a scatter plot of mouse weight versus average tumor volume for the Capomulin regimen\n",
    "wght_vol = capomulin_df.loc[:, [\"Mouse ID\", \"Weight (g)\", \"Tumor Volume (mm3)\"]]\n",
    "avg_cap = pd.DataFrame(wght_vol.groupby([\"Mouse ID\", \"Weight (g)\"])[\"Tumor Volume (mm3)\"].mean()).reset_index()\n",
    "avg_cap = avg_cap.set_index('Mouse ID')\n",
    "avg_cap.plot(kind=\"scatter\", x=\"Weight (g)\", y=\"Tumor Volume (mm3)\", figsize=(4,4),\n",
    "              title=\"Average Tumor Volume vs. Weight\")\n",
    "plt.show()"
   ]
  },
  {
   "cell_type": "code",
   "execution_count": 19,
   "metadata": {},
   "outputs": [
    {
     "name": "stdout",
     "output_type": "stream",
     "text": [
      "The correlation between both factors is 0.84\n"
     ]
    }
   ],
   "source": [
    "# Calculate the correlation coefficient and linear regression model \n",
    "#for mouse weight and average tumor volume for the Capomulin regimen\n",
    "\n",
    "wght = avg_cap.iloc[:,0]\n",
    "avg_vol = avg_cap.iloc[:,1]\n",
    "correlation = st.pearsonr(wght,avg_vol)\n",
    "print(f\"The correlation between both factors is {round(correlation[0],2)}\")"
   ]
  },
  {
   "cell_type": "code",
   "execution_count": 20,
   "metadata": {},
   "outputs": [
    {
     "ename": "NameError",
     "evalue": "name 'linregress' is not defined",
     "output_type": "error",
     "traceback": [
      "\u001b[0;31m---------------------------------------------------------------------------\u001b[0m",
      "\u001b[0;31mNameError\u001b[0m                                 Traceback (most recent call last)",
      "\u001b[0;32m<ipython-input-20-5db6507799c2>\u001b[0m in \u001b[0;36m<module>\u001b[0;34m\u001b[0m\n\u001b[1;32m      1\u001b[0m \u001b[0mx_bar\u001b[0m \u001b[0;34m=\u001b[0m \u001b[0mavg_cap\u001b[0m\u001b[0;34m[\u001b[0m\u001b[0;34m'Weight (g)'\u001b[0m\u001b[0;34m]\u001b[0m\u001b[0;34m\u001b[0m\u001b[0;34m\u001b[0m\u001b[0m\n\u001b[1;32m      2\u001b[0m \u001b[0my_bar\u001b[0m \u001b[0;34m=\u001b[0m \u001b[0mavg_cap\u001b[0m\u001b[0;34m[\u001b[0m\u001b[0;34m'Tumor Volume (mm3)'\u001b[0m\u001b[0;34m]\u001b[0m\u001b[0;34m\u001b[0m\u001b[0;34m\u001b[0m\u001b[0m\n\u001b[0;32m----> 3\u001b[0;31m \u001b[0;34m(\u001b[0m\u001b[0mslope\u001b[0m\u001b[0;34m,\u001b[0m \u001b[0mintercept\u001b[0m\u001b[0;34m,\u001b[0m \u001b[0mrvalue\u001b[0m\u001b[0;34m,\u001b[0m \u001b[0mpvalue\u001b[0m\u001b[0;34m,\u001b[0m \u001b[0mstderr\u001b[0m\u001b[0;34m)\u001b[0m \u001b[0;34m=\u001b[0m \u001b[0mlinregress\u001b[0m\u001b[0;34m(\u001b[0m\u001b[0mx_bar\u001b[0m\u001b[0;34m,\u001b[0m \u001b[0my_bar\u001b[0m\u001b[0;34m)\u001b[0m\u001b[0;34m\u001b[0m\u001b[0;34m\u001b[0m\u001b[0m\n\u001b[0m\u001b[1;32m      4\u001b[0m \u001b[0;34m\u001b[0m\u001b[0m\n\u001b[1;32m      5\u001b[0m \u001b[0;34m\u001b[0m\u001b[0m\n",
      "\u001b[0;31mNameError\u001b[0m: name 'linregress' is not defined"
     ]
    }
   ],
   "source": [
    "x_bar = avg_cap['Weight (g)']\n",
    "y_bar = avg_cap['Tumor Volume (mm3)']\n",
    "(slope, intercept, rvalue, pvalue, stderr) = linregress(x_bar, y_bar)\n",
    "\n",
    "\n",
    "plt.scatter(x_bar, y_bar)\n",
    "plt.plot(x_bar,regress_values,\"r-\")\n",
    "plt.annotate(line_eq,(6,10),fontsize=15,color=\"red\")\n",
    "plt.xlabel('Mouse Weight')\n",
    "plt.ylabel('Average Tumor Volume')\n",
    "plt.show()"
   ]
  },
  {
   "cell_type": "code",
   "execution_count": null,
   "metadata": {},
   "outputs": [],
   "source": []
  }
 ],
 "metadata": {
  "anaconda-cloud": {},
  "kernelspec": {
   "display_name": "Python 3",
   "language": "python",
   "name": "python3"
  },
  "language_info": {
   "codemirror_mode": {
    "name": "ipython",
    "version": 3
   },
   "file_extension": ".py",
   "mimetype": "text/x-python",
   "name": "python",
   "nbconvert_exporter": "python",
   "pygments_lexer": "ipython3",
   "version": "3.7.4"
  }
 },
 "nbformat": 4,
 "nbformat_minor": 2
}
